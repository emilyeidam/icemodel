{
 "cells": [
  {
   "cell_type": "markdown",
   "id": "d54b5a57-1125-4e88-ae76-2e2740677eb3",
   "metadata": {},
   "source": [
    "#### Test code\n"
   ]
  },
  {
   "cell_type": "code",
   "execution_count": 2,
   "id": "5c7b46cb-7001-4cf7-92a0-0b4be9de19b1",
   "metadata": {},
   "outputs": [
    {
     "name": "stdout",
     "output_type": "stream",
     "text": [
      "Hello World\n"
     ]
    }
   ],
   "source": [
    "print('Hello World')\n"
   ]
  },
  {
   "cell_type": "code",
   "execution_count": 8,
   "id": "5fe9b87d-560a-49d8-9f81-8787ee65daa9",
   "metadata": {},
   "outputs": [
    {
     "name": "stdout",
     "output_type": "stream",
     "text": [
      "20\n"
     ]
    }
   ],
   "source": [
    "def myfunc(x,g=9.81):\n",
    "    w=x*g\n",
    "    return w\n",
    "\n",
    "x=10\n",
    "print (myfunc(x,2))\n"
   ]
  },
  {
   "cell_type": "code",
   "execution_count": 9,
   "id": "d8772744-5959-4410-a8ee-7d719c62ce73",
   "metadata": {},
   "outputs": [],
   "source": [
    "_=myfunc(x)\n",
    "#### throw away returned value (w)\n",
    "\n"
   ]
  },
  {
   "cell_type": "code",
   "execution_count": 12,
   "id": "a96f5b2f-4d31-4f98-abdd-ab1d0761ccaf",
   "metadata": {},
   "outputs": [
    {
     "name": "stdout",
     "output_type": "stream",
     "text": [
      "(50, 5)\n"
     ]
    }
   ],
   "source": [
    "def myfunc2(x,g=9.81):\n",
    "    w=x*g\n",
    "    return w,g\n",
    "\n",
    "print (myfunc2(x,5))"
   ]
  },
  {
   "cell_type": "code",
   "execution_count": 19,
   "id": "b6b4aa22-2eea-4130-a62c-3a4546f28f51",
   "metadata": {},
   "outputs": [
    {
     "name": "stdout",
     "output_type": "stream",
     "text": [
      "(50, 5)\n"
     ]
    }
   ],
   "source": [
    "b=myfunc2(x,5)\n",
    "print (b)\n"
   ]
  },
  {
   "cell_type": "code",
   "execution_count": 26,
   "id": "eeb1cecd-f007-49a7-9b11-36f8812a80ef",
   "metadata": {},
   "outputs": [
    {
     "name": "stdout",
     "output_type": "stream",
     "text": [
      "['apples', 'peaches', 'grapes']\n"
     ]
    }
   ],
   "source": [
    "fruits=[\"apples\",\"peaches\",\"grapes\"]\n",
    "print (fruits)"
   ]
  },
  {
   "cell_type": "code",
   "execution_count": 34,
   "id": "76c44933-598e-44d2-ac86-c1ce1e60d9a9",
   "metadata": {},
   "outputs": [
    {
     "name": "stdout",
     "output_type": "stream",
     "text": [
      "apples\n",
      "peaches\n",
      "grapes\n",
      "s\n"
     ]
    }
   ],
   "source": [
    "#### Can loop on anything that is iterable\n",
    "for fruit in fruits: #### or item instead of fruit\n",
    "    print (fruit)\n",
    "\n",
    "print (fruits [0] [-1])"
   ]
  },
  {
   "cell_type": "code",
   "execution_count": 60,
   "id": "77f18cdc-3252-43a1-bfcd-342b2b27b8ab",
   "metadata": {},
   "outputs": [],
   "source": [
    "import numpy as np\n",
    "import matplotlib.pyplot as plt\n",
    "import pandas as pd #### good at reading in data from .csv"
   ]
  },
  {
   "cell_type": "code",
   "execution_count": 43,
   "id": "adbcc7a3-4d05-41fa-8295-7d2bfe18be41",
   "metadata": {},
   "outputs": [
    {
     "name": "stdout",
     "output_type": "stream",
     "text": [
      "0.8960553845713439\n"
     ]
    }
   ],
   "source": [
    "v=np.arctan(5/4)\n",
    "print (v)\n"
   ]
  },
  {
   "cell_type": "code",
   "execution_count": 46,
   "id": "0f9c8edc-017a-4154-8787-bca6f0b6d962",
   "metadata": {},
   "outputs": [
    {
     "name": "stdout",
     "output_type": "stream",
     "text": [
      "[0 1 2 3 4 5 6 7 8 9]\n"
     ]
    }
   ],
   "source": [
    "x=np.arange(0,10)\n",
    "print (x)"
   ]
  },
  {
   "cell_type": "code",
   "execution_count": 59,
   "id": "7273ea83-a872-4cec-bc26-a183954280ed",
   "metadata": {},
   "outputs": [
    {
     "data": {
      "text/plain": [
       "<matplotlib.legend.Legend at 0x1129aef00>"
      ]
     },
     "execution_count": 59,
     "metadata": {},
     "output_type": "execute_result"
    },
    {
     "data": {
      "image/png": "[encoded data removed]",
      "text/plain": [
       "<Figure size 640x480 with 1 Axes>"
      ]
     },
     "metadata": {},
     "output_type": "display_data"
    }
   ],
   "source": [
    "plt.plot(x,x**2,linewidth=3,label=\"line\",zorder=1)\n",
    "plt.plot(x,x**2,'o',label=\"circles\",zorder=0)\n",
    "plt.xlabel(\"x\")\n",
    "plt.ylabel(\"x$^2$\")\n",
    "plt.legend()"
   ]
  },
  {
   "cell_type": "code",
   "execution_count": null,
   "id": "40147bd6-0ff0-411d-9fba-2dd6fb9a88ec",
   "metadata": {},
   "outputs": [],
   "source": []
  }
 ],
 "metadata": {
  "kernelspec": {
   "display_name": "Python 3 (ipykernel)",
   "language": "python",
   "name": "python3"
  },
  "language_info": {
   "codemirror_mode": {
    "name": "ipython",
    "version": 3
   },
   "file_extension": ".py",
   "mimetype": "text/x-python",
   "name": "python",
   "nbconvert_exporter": "python",
   "pygments_lexer": "ipython3",
   "version": "3.12.0"
  }
 },
 "nbformat": 4,
 "nbformat_minor": 5
}
